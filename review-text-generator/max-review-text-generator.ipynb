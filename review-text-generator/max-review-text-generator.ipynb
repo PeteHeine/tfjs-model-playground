{
 "cells": [
  {
   "cell_type": "markdown",
   "metadata": {},
   "source": [
    "# IBM Code Model Asset Exchange Review Text Generator\n",
    "\n",
    "- https://github.com/IBM/MAX-Review-Text-Generator\n"
   ]
  },
  {
   "cell_type": "markdown",
   "metadata": {},
   "source": [
    "## Setup\n",
    "\n",
    "1. In a terminal window, run the following commands to clone the repository and also download the model artifact for the Review Text Generator:\n",
    "    ```\n",
    "    git clone https://github.com/IBM/MAX-Review-Text-Generator.git\n",
    "    \n",
    "    curl -O http://max-assets.s3-api.us-geo.objectstorage.softlayer.net/keras/generative_lang_model/generative_lang_model.h5\n",
    "    ```    \n",
    "\n",
    "2. Run the notebook `jupyter notebook .`"
   ]
  },
  {
   "cell_type": "code",
   "execution_count": null,
   "metadata": {},
   "outputs": [],
   "source": [
    "# This notebook has been tested with Python version 3.6\n",
    "!python --version"
   ]
  },
  {
   "cell_type": "code",
   "execution_count": null,
   "metadata": {},
   "outputs": [],
   "source": [
    "# This notebook has been tested with tensorflow 1.10.1, tensorflowjs 0.6.0, and numpy 1.14.5\n",
    "!pip show tensorflow tensorflowjs numpy"
   ]
  },
  {
   "cell_type": "code",
   "execution_count": null,
   "metadata": {},
   "outputs": [],
   "source": [
    "# Uncomment to install the packages needed\n",
    "\n",
    "# !pip install -Iv tensorflow\n",
    "# !pip install -Iv tensorflowjs\n",
    "# !pip install -Iv numpy\n",
    "\n",
    "# Restart the kernel after installation completes."
   ]
  },
  {
   "cell_type": "markdown",
   "metadata": {},
   "source": [
    "<br>\n",
    "\n",
    "Update the variable with the appropriate directory path to the model"
   ]
  },
  {
   "cell_type": "code",
   "execution_count": null,
   "metadata": {},
   "outputs": [],
   "source": [
    "# full path to keras model\n",
    "keras_model_file = '/Users/va/models/review-text-generator/generative_lang_model.h5'\n"
   ]
  },
  {
   "cell_type": "markdown",
   "metadata": {},
   "source": [
    "<br>\n",
    "\n",
    "Import libraries used in this notebook"
   ]
  },
  {
   "cell_type": "code",
   "execution_count": null,
   "metadata": {},
   "outputs": [],
   "source": [
    "import numpy as np\n",
    "import json\n",
    "import pathlib\n",
    "import os\n",
    "import time\n",
    "from timeit import default_timer as timer\n",
    "import tensorflow as tf"
   ]
  },
  {
   "cell_type": "code",
   "execution_count": null,
   "metadata": {},
   "outputs": [],
   "source": [
    "print('TF versions:', tf.GIT_VERSION, tf.VERSION)"
   ]
  },
  {
   "cell_type": "markdown",
   "metadata": {},
   "source": [
    "\n",
    "<br>\n",
    "\n",
    "## Load Keras model"
   ]
  },
  {
   "cell_type": "code",
   "execution_count": null,
   "metadata": {},
   "outputs": [],
   "source": [
    "# load the keras model\n",
    "def load_model(path):\n",
    "    model = tf.keras.models.load_model(\n",
    "        path,\n",
    "        custom_objects=None,\n",
    "        compile=True\n",
    "    )\n",
    "    return model\n"
   ]
  },
  {
   "cell_type": "code",
   "execution_count": null,
   "metadata": {},
   "outputs": [],
   "source": [
    "model = load_model(keras_model_file)"
   ]
  },
  {
   "cell_type": "markdown",
   "metadata": {},
   "source": [
    "\n",
    "<br>\n",
    "\n",
    "## Run inference"
   ]
  },
  {
   "cell_type": "markdown",
   "metadata": {},
   "source": [
    "<br>\n",
    "\n",
    "Set the helper functions"
   ]
  },
  {
   "cell_type": "code",
   "execution_count": null,
   "metadata": {},
   "outputs": [],
   "source": [
    "# length required for the seed text. \n",
    "# seed text will be padded or truncated as needed\n",
    "SEED_TEXT_LEN = 256\n",
    "\n",
    "\n",
    "# https://github.com/IBM/MAX-Review-Text-Generator/blob/master/core/backend.py#L28\n",
    "def load_assets(path):\n",
    "    p1 = '{}/char_indices.txt'.format(path)\n",
    "    print(p1)\n",
    "    with open(p1) as f:\n",
    "        char_indices = json.loads(f.read())\n",
    "        chars = sorted(char_indices.keys())\n",
    "        num_chars = len(chars)\n",
    "        \n",
    "    p2 = '{}/indices_char.txt'.format(path)\n",
    "    print(p2)\n",
    "    with open(p2) as f:\n",
    "        indices_char = json.loads(f.read())\n",
    "\n",
    "    return char_indices, chars, num_chars, indices_char\n",
    "\n",
    "\n",
    "# https://github.com/IBM/MAX-Review-Text-Generator/blob/master/core/backend.py#L36\n",
    "def _sample(preds, temperature=.6):\n",
    "    # helper function to sample an index from a probability array\n",
    "    preds = np.asarray(preds).astype('float64')\n",
    "    preds = np.log(preds) / temperature\n",
    "    exp_preds = np.exp(preds)\n",
    "    preds = exp_preds / np.sum(exp_preds)\n",
    "    probas = np.random.multinomial(1, preds, 1)\n",
    "    return np.argmax(probas)\n",
    "\n",
    "\n",
    "# https://github.com/IBM/MAX-Review-Text-Generator/blob/master/core/backend.py#L45\n",
    "def predict(sentence, gen_chars=50):\n",
    "    # Generate text based on seed text.\n",
    "    sentence = sentence.lower()\n",
    "    for t, char in enumerate(sentence):\n",
    "        if char not in char_indices:\n",
    "            print(\"Bad char {} at position {}\".format(char, t))\n",
    "            raise ValueError(\n",
    "                    \"Unexpected character '{}' at position {}. \"\n",
    "                    \"Only lowercase ASCII characters, spaces, \"\n",
    "                    \"and basic punctuation are supported.\".format(char, t))\n",
    "\n",
    "    # The text passed into the model must be exactly SEED_TEXT_LEN\n",
    "    # characters long, or the model will crash. Pad or truncate.\n",
    "    if len(sentence) > SEED_TEXT_LEN:\n",
    "        sentence = sentence[:SEED_TEXT_LEN]\n",
    "    else:\n",
    "        sentence = sentence.rjust(SEED_TEXT_LEN)\n",
    "\n",
    "    generated = ''\n",
    "    start = timer()\n",
    "    \n",
    "    for i in range(gen_chars):\n",
    "        x = np.zeros((1, SEED_TEXT_LEN, num_chars))\n",
    "\n",
    "        for t, char in enumerate(sentence):\n",
    "            x[0, t, char_indices[char]] = 1.\n",
    "\n",
    "        preds = model.predict(x, verbose=0)[0]\n",
    "\n",
    "        next_index = _sample(preds)\n",
    "        next_char = indices_char[str(next_index)]\n",
    "\n",
    "        generated += next_char\n",
    "        sentence = sentence[1:] + next_char\n",
    "    \n",
    "    end = timer()\n",
    "    print('predict: {}'.format(end - start))\n",
    "\n",
    "    return generated"
   ]
  },
  {
   "cell_type": "markdown",
   "metadata": {},
   "source": [
    "<br>\n",
    "\n",
    "Set the path of the model assets and load the assets."
   ]
  },
  {
   "cell_type": "code",
   "execution_count": null,
   "metadata": {},
   "outputs": [],
   "source": [
    "# path to the assets directory in the github repository\n",
    "model_assets = '/Users/va/git/MAX-Review-Text-Generator/assets'\n",
    "\n",
    "char_indices, chars, num_chars, indices_char = load_assets(model_assets)\n"
   ]
  },
  {
   "cell_type": "markdown",
   "metadata": {},
   "source": [
    "<br>\n",
    "\n",
    "Run prediction"
   ]
  },
  {
   "cell_type": "code",
   "execution_count": null,
   "metadata": {
    "scrolled": true
   },
   "outputs": [],
   "source": [
    "# sentence = 'Came here last Friday with my friends. Got there around 8:30 and got seated right away. Parking'\n",
    "sentence = 'heart be still i loved this place. way better than i expected. i had the spicy noodles and they were delicious, flavor great and quality was on point. for desert the sticky rice with mango, i dream about it now. highly recommend if you are in the mood for '\n",
    "\n",
    "generated = predict(sentence)\n",
    "\n",
    "print (sentence)\n",
    "print (generated)"
   ]
  },
  {
   "cell_type": "markdown",
   "metadata": {
    "collapsed": true
   },
   "source": [
    "<br>\n",
    "<hr>\n",
    "\n",
    "## Converting to a web-friendly format\n",
    "\n",
    "[https://github.com/tensorflow/tfjs-converter](https://github.com/tensorflow/tfjs-converter)\n",
    "\n",
    "#### keras model\n",
    "\n",
    "```\n",
    "tensorflowjs_converter \\\n",
    "    --input_format=keras \\\n",
    "    generative_lang_model.h5 \\\n",
    "    converterout\n",
    "```\n",
    "\n",
    "set the `web_asset_path` accordingly"
   ]
  },
  {
   "cell_type": "code",
   "execution_count": null,
   "metadata": {},
   "outputs": [],
   "source": [
    "# full path to directory where converter output will be saved\n",
    "web_asset_dir = '/Users/va/models/review-text-generator/web_assets'\n",
    "\n",
    "# create directory if it does not exist\n",
    "pathlib.Path(web_asset_dir).mkdir(parents=True, exist_ok=True)"
   ]
  },
  {
   "cell_type": "code",
   "execution_count": null,
   "metadata": {},
   "outputs": [],
   "source": [
    "# set appropriate keras model path and desired output path for web format\n",
    "\n",
    "!tensorflowjs_converter \\\n",
    "    --input_format=keras \\\n",
    "    {keras_model_file} \\\n",
    "    {web_asset_dir}\n"
   ]
  },
  {
   "cell_type": "code",
   "execution_count": null,
   "metadata": {},
   "outputs": [],
   "source": [
    "print(\"Web asset directory {}:\".format(web_asset_dir))\n",
    "\n",
    "web_assets = os.listdir(web_asset_dir)\n",
    "web_assets.sort()\n",
    "\n",
    "for file in web_assets:\n",
    "    file_stat = os.stat(\"{}/{}\".format(web_asset_dir,file))\n",
    "    print(\" {} {} {:>20}\".format(file.ljust(30), time.ctime(file_stat.st_mtime), file_stat.st_size))\n"
   ]
  },
  {
   "cell_type": "code",
   "execution_count": null,
   "metadata": {},
   "outputs": [],
   "source": []
  }
 ],
 "metadata": {
  "anaconda-cloud": {},
  "kernelspec": {
   "display_name": "Python [default]",
   "language": "python",
   "name": "python3"
  },
  "language_info": {
   "codemirror_mode": {
    "name": "ipython",
    "version": 3
   },
   "file_extension": ".py",
   "mimetype": "text/x-python",
   "name": "python",
   "nbconvert_exporter": "python",
   "pygments_lexer": "ipython3",
   "version": "3.6.6"
  }
 },
 "nbformat": 4,
 "nbformat_minor": 1
}
